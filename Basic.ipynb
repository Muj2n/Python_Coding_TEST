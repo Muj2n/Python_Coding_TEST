{
  "nbformat": 4,
  "nbformat_minor": 0,
  "metadata": {
    "colab": {
      "provenance": [],
      "collapsed_sections": [
        "nSuEACq-4NOT",
        "tmr8RmSY4QMH",
        "3_cim4ysCfcf",
        "-RZGMRJhFwzP",
        "yeyHaeBxIM7P",
        "uBPmkVqqcbvK",
        "SRRLlD99sbTz",
        "0pnnYzz9uOYI"
      ]
    },
    "kernelspec": {
      "name": "python3",
      "display_name": "Python 3"
    },
    "language_info": {
      "name": "python"
    }
  },
  "cells": [
    {
      "cell_type": "markdown",
      "source": [
        "### 조건문(IF)"
      ],
      "metadata": {
        "id": "nSuEACq-4NOT"
      }
    },
    {
      "cell_type": "code",
      "execution_count": null,
      "metadata": {
        "colab": {
          "base_uri": "https://localhost:8080/"
        },
        "id": "D-uml0F-0oxd",
        "outputId": "892121b5-5f93-49ff-a636-6d3448ef604a"
      },
      "outputs": [
        {
          "output_type": "stream",
          "name": "stdout",
          "text": [
            "lucky\n"
          ]
        }
      ],
      "source": [
        "x = 7\n",
        "if x == 7:\n",
        "  print('lucky')\n",
        "else:\n",
        "  print('unlucky')"
      ]
    },
    {
      "cell_type": "code",
      "source": [
        "x = 15 # 중첩 if문\n",
        "if x >= 10:\n",
        "  if x % 2 == 1:\n",
        "    print('10이상의 홀수')"
      ],
      "metadata": {
        "colab": {
          "base_uri": "https://localhost:8080/"
        },
        "id": "lNLWAHlb1oNu",
        "outputId": "17672db4-6f4b-416d-e0fa-b3c31a23c9e1"
      },
      "execution_count": null,
      "outputs": [
        {
          "output_type": "stream",
          "name": "stdout",
          "text": [
            "10이상의 홀수\n"
          ]
        }
      ]
    },
    {
      "cell_type": "code",
      "source": [
        "x = 7\n",
        "if x > 0 and x < 10: # = 0<x<10\n",
        "  print('10보다 작은 자연수')"
      ],
      "metadata": {
        "colab": {
          "base_uri": "https://localhost:8080/"
        },
        "id": "j155t4Mi18PV",
        "outputId": "43f205ec-684a-479d-d7af-c9346ddad155"
      },
      "execution_count": null,
      "outputs": [
        {
          "output_type": "stream",
          "name": "stdout",
          "text": [
            "10보다 작은 자연수\n"
          ]
        }
      ]
    },
    {
      "cell_type": "code",
      "source": [
        "x = 0\n",
        "if x > 0:\n",
        "  print('양수')\n",
        "elif x == 0:\n",
        "  print(\"0\")\n",
        "else:\n",
        "  print('음수')"
      ],
      "metadata": {
        "colab": {
          "base_uri": "https://localhost:8080/"
        },
        "id": "_JURmAJY3CJF",
        "outputId": "cc7bd3bd-39d1-473b-bec1-bcf788a53122"
      },
      "execution_count": null,
      "outputs": [
        {
          "output_type": "stream",
          "name": "stdout",
          "text": [
            "0\n"
          ]
        }
      ]
    },
    {
      "cell_type": "markdown",
      "source": [
        "### 반복문(For, While)"
      ],
      "metadata": {
        "id": "tmr8RmSY4QMH"
      }
    },
    {
      "cell_type": "code",
      "source": [
        "a = range(1, 10) # 1부터 10 - 1 = 9까지\n",
        "print(list(a))"
      ],
      "metadata": {
        "colab": {
          "base_uri": "https://localhost:8080/"
        },
        "id": "5XrpteCn4UM4",
        "outputId": "1be0e923-bc06-4582-fe99-119511dcc73d"
      },
      "execution_count": null,
      "outputs": [
        {
          "output_type": "stream",
          "name": "stdout",
          "text": [
            "[1, 2, 3, 4, 5, 6, 7, 8, 9]\n"
          ]
        }
      ]
    },
    {
      "cell_type": "code",
      "source": [
        "for i in range(10): # 0 ~ 9까지 10번 반복\n",
        "  print(i, end = ' ') # :로 인한 들여쓰기"
      ],
      "metadata": {
        "colab": {
          "base_uri": "https://localhost:8080/"
        },
        "id": "vskWMcaf4jjK",
        "outputId": "4ba21850-c7e9-48e8-ec5f-17b066e9ae4d"
      },
      "execution_count": null,
      "outputs": [
        {
          "output_type": "stream",
          "name": "stdout",
          "text": [
            "0 1 2 3 4 5 6 7 8 9 "
          ]
        }
      ]
    },
    {
      "cell_type": "code",
      "source": [
        "for i in range(10, 0, -1): # 10부터 1씩 작아짐 / range(a, b, c)  'c' : 반복 방법\n",
        "  print(i)"
      ],
      "metadata": {
        "id": "IbkrAzeE5bNK"
      },
      "execution_count": null,
      "outputs": []
    },
    {
      "cell_type": "code",
      "source": [
        "for i in range(1, 11): # 1 ~ 10 까지\n",
        "  if i % 2 == 0:\n",
        "    continue # 위의 조건을 만족하면 print X\n",
        "  print(i) "
      ],
      "metadata": {
        "id": "kBUpyRr78Ung"
      },
      "execution_count": null,
      "outputs": []
    },
    {
      "cell_type": "code",
      "source": [
        "i = 0\n",
        "\n",
        "while i < 10:\n",
        "  print(i)\n",
        "  i += 1"
      ],
      "metadata": {
        "id": "cxdL1oAF4pud"
      },
      "execution_count": null,
      "outputs": []
    },
    {
      "cell_type": "code",
      "source": [
        "for i in range (1, 13): # for - else : for문을 정상적으로 실행될 때 else구문 O\n",
        "  print(i)\n",
        "  if i >  15:\n",
        "    break # break 걸릴 시 else구문 X\n",
        "else:\n",
        "  print(11)"
      ],
      "metadata": {
        "id": "nwb7eo7a_6OJ"
      },
      "execution_count": null,
      "outputs": []
    },
    {
      "cell_type": "markdown",
      "source": [
        "### 반복문을 이용한 문제풀이"
      ],
      "metadata": {
        "id": "3_cim4ysCfcf"
      }
    },
    {
      "cell_type": "code",
      "source": [
        "n = int(input()) # input : string으로 들어가기 때문 int형 변경\n",
        "for i in range(1, n+1): # 1 ~ n까지\n",
        "  print(i)"
      ],
      "metadata": {
        "id": "MNhWNJ6CCfDW"
      },
      "execution_count": null,
      "outputs": []
    },
    {
      "cell_type": "code",
      "source": [
        "# 1 ~ N 홀수 출력\n",
        "n = int(input())\n",
        "for i in range(1, n+1, 2):\n",
        "  print(i)"
      ],
      "metadata": {
        "id": "e6dNj2keDdAa"
      },
      "execution_count": null,
      "outputs": []
    },
    {
      "cell_type": "code",
      "source": [
        "# 1 ~ N 홀수 출력\n",
        "n = int(input())\n",
        "for i in range(1, n+1):\n",
        "  if i % 2 == 0:\n",
        "    continue\n",
        "  print(i)"
      ],
      "metadata": {
        "id": "L0zYnAEIDpzs"
      },
      "execution_count": null,
      "outputs": []
    },
    {
      "cell_type": "code",
      "source": [
        "# 1 ~ N 홀수 출력\n",
        "n = int(input())\n",
        "for i in range(1, n+1):\n",
        "  if i % 2 == 1:\n",
        "    print(i)\n"
      ],
      "metadata": {
        "id": "9AnDvJ07EPfg"
      },
      "execution_count": null,
      "outputs": []
    },
    {
      "cell_type": "code",
      "source": [
        "# 1 ~ N까지의 합 구하기\n",
        "result = 0\n",
        "n = int(input())\n",
        "for i in range(1, n+1):\n",
        "  result += i\n",
        "print(result)"
      ],
      "metadata": {
        "id": "QZ2NbKBbETqY"
      },
      "execution_count": null,
      "outputs": []
    },
    {
      "cell_type": "code",
      "source": [
        "# N의 약수 구하기\n",
        "n = int(input())\n",
        "for i in range(1, n+1):\n",
        "  if n % i == 0:\n",
        "    print(i, end = ' ')"
      ],
      "metadata": {
        "colab": {
          "base_uri": "https://localhost:8080/"
        },
        "id": "NGInnJMIEemn",
        "outputId": "1559934a-99d0-4aee-a991-416668d2d7e8"
      },
      "execution_count": null,
      "outputs": [
        {
          "output_type": "stream",
          "name": "stdout",
          "text": [
            "10\n",
            "1 2 5 10 "
          ]
        }
      ]
    },
    {
      "cell_type": "markdown",
      "source": [
        "### 중첩 반복문(2중 For문)"
      ],
      "metadata": {
        "id": "-RZGMRJhFwzP"
      }
    },
    {
      "cell_type": "code",
      "source": [
        "for i in range(5): # 1개에 대해서\n",
        "  print('i:', i, sep = '', end = ' ')\n",
        "  for j in range(5): # 0~4까지 반복\n",
        "    print('j:',j, sep ='' ,end = ' ')\n",
        "  print() # 줄바꿈"
      ],
      "metadata": {
        "colab": {
          "base_uri": "https://localhost:8080/"
        },
        "id": "z128OLq_F3AC",
        "outputId": "8b81ba2a-e2e7-44e1-a219-d2ddf04a2b1e"
      },
      "execution_count": null,
      "outputs": [
        {
          "output_type": "stream",
          "name": "stdout",
          "text": [
            "i:0 j:0 j:1 j:2 j:3 j:4 \n",
            "i:1 j:0 j:1 j:2 j:3 j:4 \n",
            "i:2 j:0 j:1 j:2 j:3 j:4 \n",
            "i:3 j:0 j:1 j:2 j:3 j:4 \n",
            "i:4 j:0 j:1 j:2 j:3 j:4 \n"
          ]
        }
      ]
    },
    {
      "cell_type": "code",
      "source": [
        "# 별 찍기\n",
        "for i in range(5):\n",
        "  for j in range(i+1):\n",
        "    print('*', end = '')\n",
        "  print()"
      ],
      "metadata": {
        "colab": {
          "base_uri": "https://localhost:8080/"
        },
        "id": "_Zmu-WTfG-Lt",
        "outputId": "86b261a4-e822-476a-d019-2dc311fb8939"
      },
      "execution_count": null,
      "outputs": [
        {
          "output_type": "stream",
          "name": "stdout",
          "text": [
            "*\n",
            "**\n",
            "***\n",
            "****\n",
            "*****\n"
          ]
        }
      ]
    },
    {
      "cell_type": "code",
      "source": [
        "for i in range(5):\n",
        "  for j in range(5-i):\n",
        "    print('*', end = '')\n",
        "  print()"
      ],
      "metadata": {
        "colab": {
          "base_uri": "https://localhost:8080/"
        },
        "id": "yKPSXwxqHyM0",
        "outputId": "0a660ef1-7ccb-42fb-e154-086e82ce8c92"
      },
      "execution_count": null,
      "outputs": [
        {
          "output_type": "stream",
          "name": "stdout",
          "text": [
            "*****\n",
            "****\n",
            "***\n",
            "**\n",
            "*\n"
          ]
        }
      ]
    },
    {
      "cell_type": "code",
      "source": [
        "for i in range(5):\n",
        "  for j in range(5-i):\n",
        "    print('*', end = '')\n",
        "  print()"
      ],
      "metadata": {
        "colab": {
          "base_uri": "https://localhost:8080/"
        },
        "id": "EZxrZg42YU1u",
        "outputId": "9f318b42-6ceb-4c4f-a590-6d84182aa503"
      },
      "execution_count": null,
      "outputs": [
        {
          "output_type": "stream",
          "name": "stdout",
          "text": [
            "*****\n",
            "****\n",
            "***\n",
            "**\n",
            "*\n"
          ]
        }
      ]
    },
    {
      "cell_type": "markdown",
      "source": [
        "### 문자열과 내장함수"
      ],
      "metadata": {
        "id": "yeyHaeBxIM7P"
      }
    },
    {
      "cell_type": "code",
      "source": [
        "msg = 'It is Time'\n",
        "print(msg.upper()) # 대문자\n",
        "print(msg.lower()) # 소문자\n",
        "tmp = msg.upper()\n",
        "print(tmp.find('T')) # 문자 중 가장 첫번째 나오는 'T'\n",
        "print(tmp.count('T')) # 문자 중 'T'의 개수\n",
        "print(msg[:2])\n",
        "print(len(msg)) # 길이"
      ],
      "metadata": {
        "colab": {
          "base_uri": "https://localhost:8080/"
        },
        "id": "5rv-8yt0IMqc",
        "outputId": "b21cfd51-e830-46c6-f55a-c97974e75043"
      },
      "execution_count": null,
      "outputs": [
        {
          "output_type": "stream",
          "name": "stdout",
          "text": [
            "IT IS TIME\n",
            "it is time\n",
            "1\n",
            "2\n",
            "It\n",
            "10\n"
          ]
        }
      ]
    },
    {
      "cell_type": "code",
      "source": [
        "# 한 개씩 접근\n",
        "for i in range(len(msg)): \n",
        "  print(msg[i], end = ' ')\n",
        "print()\n",
        "for x in msg: \n",
        "  print(x, end = ' ')"
      ],
      "metadata": {
        "colab": {
          "base_uri": "https://localhost:8080/"
        },
        "id": "ByfQdXb-ak7R",
        "outputId": "195a932d-6195-4e28-d7f0-cfb273158f10"
      },
      "execution_count": null,
      "outputs": [
        {
          "output_type": "stream",
          "name": "stdout",
          "text": [
            "I t   i s   T i m e \n",
            "I t   i s   T i m e "
          ]
        }
      ]
    },
    {
      "cell_type": "code",
      "source": [
        "for x in msg:\n",
        "  if  x.isupper(): # 대문자 = True\n",
        "    print(x, end = '')"
      ],
      "metadata": {
        "colab": {
          "base_uri": "https://localhost:8080/"
        },
        "id": "pWsUSupjaqRE",
        "outputId": "93ef0b99-7d84-4e48-dd2b-ecfc4b45231a"
      },
      "execution_count": null,
      "outputs": [
        {
          "output_type": "stream",
          "name": "stdout",
          "text": [
            "IT"
          ]
        }
      ]
    },
    {
      "cell_type": "code",
      "source": [
        "for x in msg:\n",
        "  if  x.islower(): # 소문자 = True\n",
        "    print(x, end = '')"
      ],
      "metadata": {
        "colab": {
          "base_uri": "https://localhost:8080/"
        },
        "id": "liitLcj5bNCT",
        "outputId": "1fcdaea1-5742-4acf-daa3-4cb527fe9c63"
      },
      "execution_count": null,
      "outputs": [
        {
          "output_type": "stream",
          "name": "stdout",
          "text": [
            "tisime"
          ]
        }
      ]
    },
    {
      "cell_type": "code",
      "source": [
        "for x in msg:\n",
        "  if  x.isalpha(): # 알파벳 = True / 공백 = False\n",
        "    print(x, end = '')"
      ],
      "metadata": {
        "colab": {
          "base_uri": "https://localhost:8080/"
        },
        "id": "kExcU1upbSWb",
        "outputId": "8b80f5e1-7dca-44d7-e3b0-8801df2dc489"
      },
      "execution_count": null,
      "outputs": [
        {
          "output_type": "stream",
          "name": "stdout",
          "text": [
            "ItisTime"
          ]
        }
      ]
    },
    {
      "cell_type": "code",
      "source": [
        "tmp = 'AZ'\n",
        "for x in tmp:\n",
        "  print(ord(x)) # ASCII Number"
      ],
      "metadata": {
        "colab": {
          "base_uri": "https://localhost:8080/"
        },
        "id": "GA9SysCUbc_N",
        "outputId": "3f739639-921e-4d5f-cc4a-81b2da7a1e77"
      },
      "execution_count": null,
      "outputs": [
        {
          "output_type": "stream",
          "name": "stdout",
          "text": [
            "65\n",
            "90\n"
          ]
        }
      ]
    },
    {
      "cell_type": "code",
      "source": [
        "tmp = 'az'\n",
        "for x in tmp:\n",
        "  print(ord(x)) # ASCII Number"
      ],
      "metadata": {
        "colab": {
          "base_uri": "https://localhost:8080/"
        },
        "id": "yEjz2_Tub124",
        "outputId": "93a60f85-6ded-4c9e-de95-d027e51f38cd"
      },
      "execution_count": null,
      "outputs": [
        {
          "output_type": "stream",
          "name": "stdout",
          "text": [
            "97\n",
            "122\n"
          ]
        }
      ]
    },
    {
      "cell_type": "code",
      "source": [
        "tmp = 66\n",
        "print(chr(tmp)) # ASCII Number"
      ],
      "metadata": {
        "colab": {
          "base_uri": "https://localhost:8080/"
        },
        "id": "E-y3L7L4cKIM",
        "outputId": "2f8d9acd-1549-4c97-cc8b-0241254d8d4a"
      },
      "execution_count": null,
      "outputs": [
        {
          "output_type": "stream",
          "name": "stdout",
          "text": [
            "B\n"
          ]
        }
      ]
    },
    {
      "cell_type": "markdown",
      "source": [
        "### 리스트와 내장함수"
      ],
      "metadata": {
        "id": "uBPmkVqqcbvK"
      }
    },
    {
      "cell_type": "code",
      "source": [
        "import random as r"
      ],
      "metadata": {
        "id": "ZNQ6EHANcdYP"
      },
      "execution_count": null,
      "outputs": []
    },
    {
      "cell_type": "code",
      "source": [
        "b = list(range(1, 11))\n",
        "print(b)"
      ],
      "metadata": {
        "colab": {
          "base_uri": "https://localhost:8080/"
        },
        "id": "9JrfsdK3c3Xk",
        "outputId": "adfc3d67-c23e-41a6-c53a-3945d7873f7c"
      },
      "execution_count": null,
      "outputs": [
        {
          "output_type": "stream",
          "name": "stdout",
          "text": [
            "[1, 2, 3, 4, 5, 6, 7, 8, 9, 10]\n"
          ]
        }
      ]
    },
    {
      "cell_type": "code",
      "source": [
        "a = [1, 2, 3, 4, 5]\n",
        "print(a)"
      ],
      "metadata": {
        "colab": {
          "base_uri": "https://localhost:8080/"
        },
        "id": "eq3gjoROeC3m",
        "outputId": "94568092-052e-4f38-e3f9-906c6fad688a"
      },
      "execution_count": null,
      "outputs": [
        {
          "output_type": "stream",
          "name": "stdout",
          "text": [
            "[1, 2, 3, 4, 5]\n"
          ]
        }
      ]
    },
    {
      "cell_type": "code",
      "source": [
        "c = a + b\n",
        "print(c)"
      ],
      "metadata": {
        "colab": {
          "base_uri": "https://localhost:8080/"
        },
        "id": "5tXaG_MOeFqA",
        "outputId": "4aa2ca13-8681-498d-da4a-c5c79d452fb7"
      },
      "execution_count": null,
      "outputs": [
        {
          "output_type": "stream",
          "name": "stdout",
          "text": [
            "[1, 2, 3, 4, 5, 1, 2, 3, 4, 5, 6, 7, 8, 9, 10]\n"
          ]
        }
      ]
    },
    {
      "cell_type": "code",
      "source": [
        "# list 내장함수 - append : 추가\n",
        "a.append(6)\n",
        "print(a)"
      ],
      "metadata": {
        "colab": {
          "base_uri": "https://localhost:8080/"
        },
        "id": "DfhKp2HbeMi7",
        "outputId": "05134d7a-19b9-4864-81e0-4cd815e3c9dc"
      },
      "execution_count": null,
      "outputs": [
        {
          "output_type": "stream",
          "name": "stdout",
          "text": [
            "[1, 2, 3, 4, 5, 5, 5, 6, 6]\n"
          ]
        }
      ]
    },
    {
      "cell_type": "code",
      "source": [
        "# insert\n",
        "a.insert(3, 7) # 3번 인덱스(4번째 자리)에 '7' 추가\n",
        "print(a)"
      ],
      "metadata": {
        "colab": {
          "base_uri": "https://localhost:8080/"
        },
        "id": "nwv1qe0le4a0",
        "outputId": "c8e35b15-ff0f-49dc-c7a3-746675009ada"
      },
      "execution_count": null,
      "outputs": [
        {
          "output_type": "stream",
          "name": "stdout",
          "text": [
            "[1, 2, 3, 7, 4, 5, 5, 5, 6, 6]\n"
          ]
        }
      ]
    },
    {
      "cell_type": "code",
      "source": [
        "# pop : 리스트에서 인덱스 값 삭제\n",
        "a.pop() # 리스트에서 맨 뒤의 값 삭제\n",
        "a.pop(3) # 3번 인덱스 삭제\n",
        "print(a)"
      ],
      "metadata": {
        "colab": {
          "base_uri": "https://localhost:8080/"
        },
        "id": "wNeNuGN2fIZb",
        "outputId": "6e3813a2-5478-4520-d455-c770a8d44307"
      },
      "execution_count": null,
      "outputs": [
        {
          "output_type": "stream",
          "name": "stdout",
          "text": [
            "[1, 2, 3, 4, 5, 5]\n"
          ]
        }
      ]
    },
    {
      "cell_type": "code",
      "source": [
        "# remove : 값을 삭제\n",
        "a.remove(4)\n",
        "print(a)"
      ],
      "metadata": {
        "colab": {
          "base_uri": "https://localhost:8080/"
        },
        "id": "uC6t06DygJNn",
        "outputId": "9359e70d-9935-4b71-d498-64aae1e169ad"
      },
      "execution_count": null,
      "outputs": [
        {
          "output_type": "stream",
          "name": "stdout",
          "text": [
            "[1, 2, 3, 5, 5]\n"
          ]
        }
      ]
    },
    {
      "cell_type": "code",
      "source": [
        "# index(값) : 위치를 찾아줌\n",
        "print(a.index(5))"
      ],
      "metadata": {
        "colab": {
          "base_uri": "https://localhost:8080/"
        },
        "id": "Q_JnHnpWgh8w",
        "outputId": "5b2f8ef1-d411-4657-8012-0298f12d0ffa"
      },
      "execution_count": null,
      "outputs": [
        {
          "output_type": "stream",
          "name": "stdout",
          "text": [
            "3\n"
          ]
        }
      ]
    },
    {
      "cell_type": "code",
      "source": [
        "a = list(range(11))\n",
        "print(sum(a)) # 총합\n",
        "print(max(a)) # Max\n",
        "print(min(a)) # Min\n",
        "print(min(7, 5)) # 인자 값 중에서 최소값\n"
      ],
      "metadata": {
        "colab": {
          "base_uri": "https://localhost:8080/"
        },
        "id": "xYJMQTILgrIe",
        "outputId": "b3569cc3-2fd8-4c34-fcdf-83bf533a4de1"
      },
      "execution_count": null,
      "outputs": [
        {
          "output_type": "stream",
          "name": "stdout",
          "text": [
            "55\n",
            "10\n",
            "0\n",
            "5\n"
          ]
        }
      ]
    },
    {
      "cell_type": "code",
      "source": [
        "r.shuffle(a)\n",
        "print(a)\n",
        "a.sort() # 오름차순\n",
        "print(a)\n",
        "a.sort(reverse = True) # 내림차순\n",
        "print(a)"
      ],
      "metadata": {
        "colab": {
          "base_uri": "https://localhost:8080/"
        },
        "id": "RGrIB-TxiFrZ",
        "outputId": "7270e1b5-6970-435f-cfa0-db1827c904d9"
      },
      "execution_count": null,
      "outputs": [
        {
          "output_type": "stream",
          "name": "stdout",
          "text": [
            "[6, 1, 3, 5, 9, 4, 10, 2, 8, 7, 0]\n",
            "[0, 1, 2, 3, 4, 5, 6, 7, 8, 9, 10]\n",
            "[10, 9, 8, 7, 6, 5, 4, 3, 2, 1, 0]\n"
          ]
        }
      ]
    },
    {
      "cell_type": "code",
      "source": [
        "a = [23, 12, 36, 53, 19]\n",
        "for i in range(len(a)):\n",
        "  print(a[i], end = ' ')\n",
        "print()\n",
        "\n",
        "for x in a:\n",
        "  if x % 2 == 1: # 리스트 - 선호하는 방식\n",
        "    print(x, end = ' ')\n",
        "print()"
      ],
      "metadata": {
        "colab": {
          "base_uri": "https://localhost:8080/"
        },
        "id": "HHqEwJYiiMdP",
        "outputId": "6a388190-ea9a-4689-a32b-f43f92bd66fb"
      },
      "execution_count": null,
      "outputs": [
        {
          "output_type": "stream",
          "name": "stdout",
          "text": [
            "23 12 36 53 19 \n",
            "23 53 19 \n"
          ]
        }
      ]
    },
    {
      "cell_type": "code",
      "source": [
        "for x in enumerate(a): # 튜플 값 출력 - 인덱스 값\n",
        "  print(x)\n",
        "print()\n",
        "\n",
        "for x in enumerate(a): # 튜플 값 출력 - 인덱스 값\n",
        "  print(x[0], x[1]) # 인덱스 번호와 값을 같이 출력\n",
        "print()\n",
        "\n",
        "for index, value in enumerate(a):\n",
        "  print(index, value)"
      ],
      "metadata": {
        "colab": {
          "base_uri": "https://localhost:8080/"
        },
        "id": "dUhkHhohrxLy",
        "outputId": "39d9481f-ebd9-4d24-e218-56ba0ed02f12"
      },
      "execution_count": null,
      "outputs": [
        {
          "output_type": "stream",
          "name": "stdout",
          "text": [
            "(0, 23)\n",
            "(1, 12)\n",
            "(2, 36)\n",
            "(3, 53)\n",
            "(4, 19)\n",
            "\n",
            "0 23\n",
            "1 12\n",
            "2 36\n",
            "3 53\n",
            "4 19\n",
            "\n",
            "0 23\n",
            "1 12\n",
            "2 36\n",
            "3 53\n",
            "4 19\n"
          ]
        }
      ]
    },
    {
      "cell_type": "markdown",
      "source": [
        "* 리스트와 튜플의 차이점\n",
        "  * 리스트는 값 변경이 가능하지만, 튜플 값은 변경이 불가능하다."
      ],
      "metadata": {
        "id": "AWjq6Br2qVUd"
      }
    },
    {
      "cell_type": "code",
      "source": [
        "if all(60 > x for x in a): # 60과 x 값을 비교 / all : 모두 참 - 참 리턴\n",
        "  print('YES')\n",
        "else:\n",
        "  print('NO')"
      ],
      "metadata": {
        "colab": {
          "base_uri": "https://localhost:8080/"
        },
        "id": "_hLC5b-NrVGG",
        "outputId": "c50ad2f9-64fc-42a5-b4dd-94df2ac8fd90"
      },
      "execution_count": null,
      "outputs": [
        {
          "output_type": "stream",
          "name": "stdout",
          "text": [
            "YES\n"
          ]
        }
      ]
    },
    {
      "cell_type": "code",
      "source": [
        "if all(50 > x for x in a): # 50과 x 값을 비교 / all : 모두 참 - 참 리턴\n",
        "  print('YES')\n",
        "else:\n",
        "  print('NO')"
      ],
      "metadata": {
        "colab": {
          "base_uri": "https://localhost:8080/"
        },
        "id": "EnstjbK1r2pc",
        "outputId": "7dff6b16-fb84-437f-da24-3b84da3ce3c0"
      },
      "execution_count": null,
      "outputs": [
        {
          "output_type": "stream",
          "name": "stdout",
          "text": [
            "NO\n"
          ]
        }
      ]
    },
    {
      "cell_type": "code",
      "source": [
        "if any(15 > x for x in a): # 15과 x 값을 비교 / any : 어떤 하나라도 참 - 참 리턴\n",
        "  print('YES')\n",
        "else:\n",
        "  print('NO')"
      ],
      "metadata": {
        "colab": {
          "base_uri": "https://localhost:8080/"
        },
        "id": "xslazc89sCeh",
        "outputId": "1d8a4594-835c-4595-d620-b41b40599268"
      },
      "execution_count": null,
      "outputs": [
        {
          "output_type": "stream",
          "name": "stdout",
          "text": [
            "YES\n"
          ]
        }
      ]
    },
    {
      "cell_type": "code",
      "source": [
        "if any(11 > x for x in a): # 11과 x 값을 비교 / any : 어떤 하나라도 참 - 참 리턴\n",
        "  print('YES')\n",
        "else:\n",
        "  print('NO')"
      ],
      "metadata": {
        "colab": {
          "base_uri": "https://localhost:8080/"
        },
        "id": "sztOHxcosTa0",
        "outputId": "9789e461-dbb5-4631-9828-fb7187288544"
      },
      "execution_count": null,
      "outputs": [
        {
          "output_type": "stream",
          "name": "stdout",
          "text": [
            "NO\n"
          ]
        }
      ]
    },
    {
      "cell_type": "markdown",
      "source": [
        "### 2차원 리스트 생성과 접근"
      ],
      "metadata": {
        "id": "SRRLlD99sbTz"
      }
    },
    {
      "cell_type": "code",
      "source": [
        "a = [0] * 3 # 1차원 리스트\n",
        "print(a)"
      ],
      "metadata": {
        "colab": {
          "base_uri": "https://localhost:8080/"
        },
        "id": "Ddq9L1QYsda8",
        "outputId": "a8e4a3a8-4fa6-498f-a582-6544d4b96f45"
      },
      "execution_count": null,
      "outputs": [
        {
          "output_type": "stream",
          "name": "stdout",
          "text": [
            "[0, 0, 0]\n"
          ]
        }
      ]
    },
    {
      "cell_type": "code",
      "source": [
        "a = [[0] * 3 for _ in range(3)] # 2차원 리스트\n",
        "print(a)"
      ],
      "metadata": {
        "colab": {
          "base_uri": "https://localhost:8080/"
        },
        "id": "god38VoZsyuu",
        "outputId": "acd3a19a-5aaa-41b0-98d7-ab6d1e13998d"
      },
      "execution_count": null,
      "outputs": [
        {
          "output_type": "stream",
          "name": "stdout",
          "text": [
            "[[0, 0, 0], [0, 0, 0], [0, 0, 0]]\n"
          ]
        }
      ]
    },
    {
      "cell_type": "code",
      "source": [
        "# a[0][1] : a의 0행 1열\n",
        "a[0][1] = 1\n",
        "print(a)"
      ],
      "metadata": {
        "colab": {
          "base_uri": "https://localhost:8080/"
        },
        "id": "s6ArTJHKtVwt",
        "outputId": "2e7e88b2-0b92-42ba-ffa7-3e22703ca8b8"
      },
      "execution_count": null,
      "outputs": [
        {
          "output_type": "stream",
          "name": "stdout",
          "text": [
            "[[0, 1, 0], [0, 0, 0], [0, 0, 0]]\n"
          ]
        }
      ]
    },
    {
      "cell_type": "code",
      "source": [
        "for x in a: # 행렬 보는 방법\n",
        "  print(x)"
      ],
      "metadata": {
        "colab": {
          "base_uri": "https://localhost:8080/"
        },
        "id": "olYuy_MDtmSJ",
        "outputId": "2b6b79ed-dc02-4bb4-c916-9f4ff9beac4a"
      },
      "execution_count": null,
      "outputs": [
        {
          "output_type": "stream",
          "name": "stdout",
          "text": [
            "[0, 1, 0]\n",
            "[0, 0, 0]\n",
            "[0, 0, 0]\n"
          ]
        }
      ]
    },
    {
      "cell_type": "code",
      "source": [
        "for x in a:\n",
        "  for y in x:\n",
        "    print(y, end = '')\n",
        "  print()"
      ],
      "metadata": {
        "colab": {
          "base_uri": "https://localhost:8080/"
        },
        "id": "xj14dpiQt9xF",
        "outputId": "55a31cfa-d114-4dba-9aa2-051d19aa9870"
      },
      "execution_count": null,
      "outputs": [
        {
          "output_type": "stream",
          "name": "stdout",
          "text": [
            "010\n",
            "000\n",
            "000\n"
          ]
        }
      ]
    },
    {
      "cell_type": "markdown",
      "source": [
        "### 함수 만들기"
      ],
      "metadata": {
        "id": "0pnnYzz9uOYI"
      }
    },
    {
      "cell_type": "code",
      "source": [
        "def add (a, b): # 함수 이름\n",
        "  c = a + b\n",
        "  d = a - b\n",
        "  return c, d # 반환 : 값을 받는다. (두개의 값을 반환 할 수 있다.)\n",
        "\n",
        "print(add(3, 5))"
      ],
      "metadata": {
        "colab": {
          "base_uri": "https://localhost:8080/"
        },
        "id": "_Y_fz6a5uQwf",
        "outputId": "eecf5e27-4a52-4c56-8e4f-3d9c00932cef"
      },
      "execution_count": null,
      "outputs": [
        {
          "output_type": "stream",
          "name": "stdout",
          "text": [
            "(8, -2)\n"
          ]
        }
      ]
    },
    {
      "cell_type": "code",
      "source": [
        "# 소수 판별 함수\n",
        "a = [12, 13, 7, 9, 19]\n",
        "\n",
        "def isPrime(x):\n",
        "  for i in range(2, x):\n",
        "    if x % i == 0:\n",
        "      return False # 종료 되는 경우 False\n",
        "  return True # 종료 되지 않는 경우 True \n",
        "\n",
        "for x in a:\n",
        "  if isPrime(x): # 참일 떄 출력\n",
        "    print(x, end = ' ')"
      ],
      "metadata": {
        "colab": {
          "base_uri": "https://localhost:8080/"
        },
        "id": "yJIvaEkovOED",
        "outputId": "2f7945a8-5218-48d3-c14e-fda08c99c1fc"
      },
      "execution_count": null,
      "outputs": [
        {
          "output_type": "stream",
          "name": "stdout",
          "text": [
            "13 7 19 "
          ]
        }
      ]
    },
    {
      "cell_type": "markdown",
      "source": [
        "* 람다함수"
      ],
      "metadata": {
        "id": "oxsBgPeMyW--"
      }
    },
    {
      "cell_type": "code",
      "source": [
        "# 함수\n",
        "def plus_one(x):\n",
        "  return x + 1\n",
        "print(plus_one(2))\n",
        "\n",
        "# 람다함수\n",
        "plus_two = lambda x : x + 2\n",
        "print(plus_two(2))"
      ],
      "metadata": {
        "colab": {
          "base_uri": "https://localhost:8080/"
        },
        "id": "MTQ1bGusybSv",
        "outputId": "165e832a-f2e5-4a7b-8acd-53c030ec1558"
      },
      "execution_count": null,
      "outputs": [
        {
          "output_type": "stream",
          "name": "stdout",
          "text": [
            "3\n",
            "4\n"
          ]
        }
      ]
    },
    {
      "cell_type": "code",
      "source": [
        "# 내장함수의 인자로 사용할 때 유용\n",
        "a = [1, 2, 3]\n",
        "print(list(map(plus_one, a))) # map(a, b) : a = 함수(= int, def), b = 인자\n",
        "\n",
        "# 람다함수로 표현\n",
        "print(list(map(lambda x : x + 1, a)))"
      ],
      "metadata": {
        "colab": {
          "base_uri": "https://localhost:8080/"
        },
        "id": "cc0CXrY90xUi",
        "outputId": "51a23868-97a4-4814-f3d5-eb95a74b50c9"
      },
      "execution_count": null,
      "outputs": [
        {
          "output_type": "stream",
          "name": "stdout",
          "text": [
            "[2, 3, 4]\n",
            "[2, 3, 4]\n"
          ]
        }
      ]
    }
  ]
}
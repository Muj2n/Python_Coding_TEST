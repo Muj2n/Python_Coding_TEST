{
  "nbformat": 4,
  "nbformat_minor": 0,
  "metadata": {
    "colab": {
      "provenance": []
    },
    "kernelspec": {
      "name": "python3",
      "display_name": "Python 3"
    },
    "language_info": {
      "name": "python"
    }
  },
  "cells": [
    {
      "cell_type": "code",
      "execution_count": null,
      "metadata": {
        "id": "u7gFJHvWOMnj"
      },
      "outputs": [],
      "source": [
        "# 가장 큰수 - SOL\n",
        "\n",
        "# 자기 앞의 숫자가 자기보다 작으면 삭제 - Stack\n",
        "\n",
        "# 들어가는 입구와 나가는 입구가 한곳 : LIFO\n",
        "\n",
        "# list이용 > pop append 사용\n",
        "\n",
        "# 삭제 : cnt += 1 / 남은 삭제에 대해선 슬라이스 진행 [:-2] > 슬라이스 -2 이전까지\n",
        "\n",
        "num, m = map(int,input().split())\n",
        "# 하나의 정수 리스트화 시키기\n",
        "num = list(map(int, str(num))) # 문자열로 바꾸면 한개씩 list화 가능\n",
        "\n",
        "stack = []\n",
        "for x in num:\n",
        "  while stack and m > 0 and stack[-1] < x: # stack열이 비어있지 X / m의 카운트가 0보다 크고 / stack의 마지막 숫자가 x 값보다 작으면\n",
        "    statck.pop()\n",
        "    m -= 1\n",
        "  stack.append(x)\n",
        "\n",
        "# 스택 완료 이후, 개수 맞춰서 출력\n",
        "if m != 0:\n",
        "  stack = stack[:-m]\n",
        "for x in stack:\n",
        "  print(x, end = '')"
      ]
    },
    {
      "cell_type": "code",
      "source": [
        "# 쇠막대기 - SOL\n",
        "# () : 레이저\n",
        "# (( : 쇠막대기 시작\n",
        "# )) : 쇠막대기 종료\n",
        "# Stack\n",
        "# ( 에 맞춰서 Stack에 쌓아 올림 / )에 나올 시 앞에 (일 경우 레이저 > 길이에 대해서 덧셈\n",
        "\n",
        "s = input()\n",
        "stack = []\n",
        "cnt = 0 # 쇠막대기 조각 누적\n",
        "for i in range(len(s)): # s의 길이만큼 for문 진행\n",
        "  if s[i] == '(':\n",
        "    stack.append(i)\n",
        "  else:\n",
        "    stack.pop()\n",
        "    if s[i-1] == '(': # 닫는괄호의 앞이 여는 괄호일 경우 : 레이저\n",
        "      cnt += len(stack) # 남아있는 stack에 맞게 누적\n",
        "    else: # 쇠막대기의 크기\n",
        "      cnt += 1 # 마지막 부분에 대한 크기 더하기\n"
      ],
      "metadata": {
        "id": "lmICLBvga0e6"
      },
      "execution_count": null,
      "outputs": []
    },
    {
      "cell_type": "code",
      "source": [
        "# 후위표기식 만들기 - SOL\n",
        "# Stack\n",
        "# 숫자는 바로 출력\n",
        "# * /, + - 순서\n",
        "# 만약 *가 stack안에 있는데  /가 들어오는 경우, *출력, stack에 넣음\n",
        "# 만약 +가 stack안에 있는데 *가 들어오는 경우, stack에 넣음\n",
        "# 만약 *가 stack안에 잇는데 +가 들어오는 경우, *출력, stack에 넣음\n",
        "# (는 바로 넣음 > )를 사이의 연산자 모두 출력\n",
        "\n",
        "a = input()\n",
        "stack = []\n",
        "res = '' # 출력 누적\n",
        "for x in a:\n",
        "  if x.isdecimal(): # 0 ~ 9까지 숫자인지 판단\n",
        "    res += x\n",
        "  else:\n",
        "    if x == '(': \n",
        "      stack.append(x) # 여는 괄호 stack에 넣기\n",
        "    elif x == '*' or x == '/':\n",
        "      while stack and (stack[-1] == '*' or stack[-1] == '/'): # while stack : stack이 비어있을때까지 / 우선순위가 같은 연산자\n",
        "        res+=stack.pop() # stack에 마지막열을 꺼내고 그걸 res에 출력\n",
        "      stack.append(x)\n",
        "    elif x == '+' or x == '-':\n",
        "      while stack and stack[-1] != '(': # 괄호가 나오기 전까지 연산자 처리\n",
        "        res += stack.pop()\n",
        "      stack.append(x)\n",
        "    elif x == ')':\n",
        "       while stack and stack[-1] != '(': # 괄호가 나올 시, 연산을 멈춰야함\n",
        "        res += stack.pop()\n",
        "      stack.pop() # 출력을 하지 않고 처리\n",
        "while stack:\n",
        "  res += stack.pop()\n",
        "print(res)"
      ],
      "metadata": {
        "id": "D7nrICWwfC0u"
      },
      "execution_count": null,
      "outputs": []
    },
    {
      "cell_type": "code",
      "source": [
        "# 후위식 연산\n",
        "# 연산기호가 나오면, 앞에 두수를 연산기호로 계산\n",
        "# Stack안에 숫자를 넣고, 연산기호가 나오면 2개의 자료를 꺼내서 계산\n",
        "\n",
        "a = input()\n",
        "stack = []\n",
        "for x in a:\n",
        "  if x.isdecimal(): # 숫자의 경우\n",
        "    stack.append(int(x)) # 연산을 해야하기 때문 str > int\n",
        "  else:\n",
        "    if x == '+': # 연산기호가 나올 때\n",
        "      n1 = stack.pop() # n1의 값을 꺼냄\n",
        "      n2 = stack.pop() # n2의 값을 꺼냄\n",
        "      stack.append(n2 + n1) # 계산 후 stack에 넣어줌\n",
        "    elif x == '-': # 연산기호가 나올 때\n",
        "      n1 = stack.pop() # n1의 값을 꺼냄\n",
        "      n2 = stack.pop() # n2의 값을 꺼냄\n",
        "      stack.append(n2 - n1) # 계산 후 stack에 넣어줌      \n",
        "  elif x == '*': # 연산기호가 나올 때\n",
        "      n1 = stack.pop() # n1의 값을 꺼냄\n",
        "      n2 = stack.pop() # n2의 값을 꺼냄\n",
        "      stack.append(n2 * n1) # 계산 후 stack에 넣어줌      \n",
        "  elif x == '/': # 연산기호가 나올 때\n",
        "      n1 = stack.pop() # n1의 값을 꺼냄\n",
        "      n2 = stack.pop() # n2의 값을 꺼냄\n",
        "      stack.append(n2 / n1) # 계산 후 stack에 넣어줌\n",
        "print(stack[0])     \n"
      ],
      "metadata": {
        "id": "HKNWgofJkDW6"
      },
      "execution_count": null,
      "outputs": []
    }
  ]
}
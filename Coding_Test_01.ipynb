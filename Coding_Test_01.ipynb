{
  "nbformat": 4,
  "nbformat_minor": 0,
  "metadata": {
    "colab": {
      "provenance": []
    },
    "kernelspec": {
      "name": "python3",
      "display_name": "Python 3"
    },
    "language_info": {
      "name": "python"
    }
  },
  "cells": [
    {
      "cell_type": "code",
      "execution_count": null,
      "metadata": {
        "colab": {
          "base_uri": "https://localhost:8080/"
        },
        "id": "3mGSe1Y5uE3O",
        "outputId": "c55c0513-1c42-4302-d385-ba2b3d0f4812"
      },
      "outputs": [
        {
          "output_type": "stream",
          "name": "stdout",
          "text": [
            "6 5\n",
            "-1\n"
          ]
        }
      ],
      "source": [
        "# K 번쨰 약수\n",
        "\n",
        "a, b = map(int, input().split())\n",
        "result = []\n",
        "for i in range(1, a+1):\n",
        "  if a % i == 0:\n",
        "    result.append(i)\n",
        "if len(result) < b:\n",
        "  print(-1)\n",
        "else:\n",
        "  print(result[b-1])"
      ]
    },
    {
      "cell_type": "code",
      "source": [
        "# K 번쨰 약수 - SOL\n",
        "\n",
        "n, k = map(int, input().split()) # 처음에 들어올 땐 str > int로 변환\n",
        "cnt = 0 # k번째 수\n",
        "for i in range(1, n+1): # 1 ~ n까지\n",
        "  if n % i == 0:\n",
        "    cnt += 1 # 1 증가\n",
        "  if cnt == k: # n과 k의 수가 같으면\n",
        "    print(i)\n",
        "    break # i를 출력하고 멈춘다.\n",
        "else:\n",
        "  print(-1) # k의 수와 같지 않으면 '-1' 출력\n"
      ],
      "metadata": {
        "colab": {
          "base_uri": "https://localhost:8080/"
        },
        "id": "LrFOdE8ujLBQ",
        "outputId": "67fcb2ae-d97c-422d-ce17-4609006dc1d0"
      },
      "execution_count": null,
      "outputs": [
        {
          "output_type": "stream",
          "name": "stdout",
          "text": [
            "6 4\n",
            "6\n"
          ]
        }
      ]
    },
    {
      "cell_type": "code",
      "source": [
        "# K 번째 수\n",
        "\n",
        "a = [1, 3, 45, 4]\n",
        "a.sort()\n",
        "a[3]"
      ],
      "metadata": {
        "colab": {
          "base_uri": "https://localhost:8080/"
        },
        "id": "wcktMaFGwUWf",
        "outputId": "7ab8fcfc-0d10-484f-856a-34525d746bba"
      },
      "execution_count": null,
      "outputs": [
        {
          "output_type": "execute_result",
          "data": {
            "text/plain": [
              "45"
            ]
          },
          "metadata": {},
          "execution_count": 96
        }
      ]
    },
    {
      "cell_type": "code",
      "source": [
        "# K 번째 수 - SOL\n",
        "\n",
        "step = int(input()) # 케이스 개수\n",
        "for t in range(step):\n",
        "  n, s, e, k  = map(int, input().split()) # 숫자\n",
        "  a = list(map(int, input().split())) # 리스트\n",
        "  a = a[s-1:e] # s ~ e 사이의 수\n",
        "  a.sort()\n",
        "  print('#',t + 1, end = ' ')\n",
        "  print(a[k-1])"
      ],
      "metadata": {
        "colab": {
          "base_uri": "https://localhost:8080/"
        },
        "id": "5Y_wh92EnZc7",
        "outputId": "69cf55bf-9461-4c85-f1ba-7eec4d0aa598"
      },
      "execution_count": null,
      "outputs": [
        {
          "output_type": "stream",
          "name": "stdout",
          "text": [
            "1\n",
            "6 2 5 3\n",
            "5 2 7 3 8 9\n",
            "# 1 7\n"
          ]
        }
      ]
    },
    {
      "cell_type": "code",
      "source": [
        "# K 번째 큰수\n",
        "a, b = map(int, input(). split())\n",
        "c = list(map(int, input().split()))\n",
        "\n",
        "c.sort(reverse = True)\n",
        "print(c[b-1])"
      ],
      "metadata": {
        "colab": {
          "base_uri": "https://localhost:8080/"
        },
        "id": "jpwIx8dnzAMb",
        "outputId": "517a3c6a-81d2-4464-ea7a-0f800b6c207b"
      },
      "execution_count": null,
      "outputs": [
        {
          "output_type": "stream",
          "name": "stdout",
          "text": [
            "10 3\n",
            "13 15 34 23 45 65 33 11 26 42\n",
            "42\n"
          ]
        }
      ]
    },
    {
      "cell_type": "code",
      "source": [
        "# K 번째 큰 수 - SOL\n",
        "n, k = map(int, input(). split())\n",
        "a = list(map(int, input().split()))\n",
        "# 중복된 값은 카운팅 하지 않는다.\n",
        "# 리스트에 대입하면 중복되서 들어간다. \n",
        "res = set() # set - 집합으로 풀이(중복 X)\n",
        "# 3중 for문 : 3개의 값을 더하기 위해\n",
        "for i in range(n): # i부터\n",
        "  for j in range(i + 1, n): # i+1부터\n",
        "    for m in range(j + 1, n): # i+2부터\n",
        "      res.add(a[i]+a[j]+a[m]) # set구조 - add\n",
        "res = list(res) # 자료형 구조는 순서 X\n",
        "res.sort(reverse = True) # 리스트 변경 후 sort\n",
        "print(res[k-1])"
      ],
      "metadata": {
        "id": "VGd5PjTPsKnc"
      },
      "execution_count": null,
      "outputs": []
    },
    {
      "cell_type": "code",
      "source": [
        "# 최솟값 구하기\n",
        "arr = [5, 3, 7, 8, 2, 4, 5, 6, 2]\n",
        "\n",
        "arrMin = arr[0] # arr의 첫번째 값\n",
        "for i in range(len(arr)): # len : 8\n",
        "  # print(arr[i]) 원소 출력\n",
        "  if arr[i] < arrMin:\n",
        "    arrMin = arr[i] # 작은 값을 찾으면 arrMin에 저장\n",
        "    # 같은 값일 때 구하고자 하는 값이 앞의 값이면 < / 뒤의 값이면 =<\n",
        "print(arrMin)\n"
      ],
      "metadata": {
        "colab": {
          "base_uri": "https://localhost:8080/"
        },
        "id": "J9eETnb1xAi4",
        "outputId": "3f87bd01-8f0f-4b14-890d-656df412f82f"
      },
      "execution_count": null,
      "outputs": [
        {
          "output_type": "stream",
          "name": "stdout",
          "text": [
            "2\n"
          ]
        }
      ]
    },
    {
      "cell_type": "code",
      "source": [
        "# 최솟값 구하기 - 2\n",
        "arr = [5, 3, 7, 8, 2, 4, 5, 6, 2]\n",
        "arrMin = float('inf') # 'inf' : 무한대 값\n",
        "for x in arr: # 리스트의 숫자\n",
        "  if x < arrMin:\n",
        "    arrMin = x\n",
        "print(arrMin)"
      ],
      "metadata": {
        "colab": {
          "base_uri": "https://localhost:8080/"
        },
        "id": "p_xRDS51zzon",
        "outputId": "320419c3-c8f4-4809-9fbe-942747419159"
      },
      "execution_count": null,
      "outputs": [
        {
          "output_type": "stream",
          "name": "stdout",
          "text": [
            "2\n"
          ]
        }
      ]
    },
    {
      "cell_type": "code",
      "source": [
        "# 대표값 - SOL\n",
        "n = int(input())\n",
        "a = list(map(int, input().split()))\n",
        "# ave = round(sum(a) / n, 0) 평균 round : 4.50 > 4로 변경(짝수값으로 변경됨)\n",
        "ave = int(sum(a) / n + 0.5)\n",
        "min = 2147000000 # 큰 수 \n",
        "for idx, x in enumerate(a): # idx , x : 인덱스와 값을 둘다 추출\n",
        "  tmp = abs(x - ave) # 절대값 : 거리\n",
        "  if tmp < min:\n",
        "    min = tmp \n",
        "    score = x # 답이 되는 점수\n",
        "    res = idx + 1 # 인덱스 번호 저장(인덱스는 0부터 시작)\n",
        "  elif tmp == min: # 최솟값이 같을 때\n",
        "    if x > score: # 답이 되는 점수가 x값이 더 크면\n",
        "      score = x # 값 변경\n",
        "      res = idx + 1 # 인덱스 번호도 변경\n",
        "print(ave, res)\n"
      ],
      "metadata": {
        "colab": {
          "base_uri": "https://localhost:8080/"
        },
        "id": "NaUD3Vxl0ZiH",
        "outputId": "d92d580e-6dd3-427f-cac9-4546d78e8cad"
      },
      "execution_count": null,
      "outputs": [
        {
          "output_type": "stream",
          "name": "stdout",
          "text": [
            "10\n",
            "45 73 66 87 92 67 75 79 75 80\n",
            "74 7\n"
          ]
        }
      ]
    },
    {
      "cell_type": "code",
      "source": [
        "# 정다면체\n",
        "a, b = map(int, input(). split())\n",
        "c = []\n",
        "for x in range(1, a+1): # 1234\n",
        "  for y in range(1, b+1): # 123456\n",
        "    c.append(x + y)\n",
        "    c.sort()\n",
        "print(c)"
      ],
      "metadata": {
        "colab": {
          "base_uri": "https://localhost:8080/"
        },
        "id": "4YQMElGD0WmK",
        "outputId": "8c94c9ef-42da-426a-9755-1a0f692fa0a5"
      },
      "execution_count": null,
      "outputs": [
        {
          "output_type": "stream",
          "name": "stdout",
          "text": [
            "4 6\n",
            "[2, 3, 3, 4, 4, 4, 5, 5, 5, 5, 6, 6, 6, 6, 7, 7, 7, 7, 8, 8, 8, 9, 9, 10]\n"
          ]
        }
      ]
    },
    {
      "cell_type": "code",
      "source": [
        "# 정다면체 - SOL\n",
        "# 2중 for문 사용 도출한 숫자에 대한 개수 카운트\n",
        "\n",
        "n, m = map(int, input().split())\n",
        "cnt = [0]*(n+m+1) # 개수 카운트 할 리스트 생성\n",
        "max = -2147000000 # 가장 작은 값으로 초기화\n",
        "for i in range(1, n+1):\n",
        "  for j in range(1, m+1):\n",
        "    cnt[i+j] += 1 # cnt의 리스트 값이 증가\n",
        "for i in range(n+m+1): # 최대값 찾기\n",
        "  if cnt[i] > max:\n",
        "    max = cnt[i] # Max 값 1개 확인\n",
        "for i in range(n+m+1): # 인덱스 출력\n",
        "  if cnt[i] == max: # Max 값과 같은 값의 인덱스(i) 값 출력\n",
        "    print(i, end = ' ')\n"
      ],
      "metadata": {
        "colab": {
          "base_uri": "https://localhost:8080/"
        },
        "id": "02N2rViJBD1_",
        "outputId": "c36e4be0-0843-4eed-8bae-7b008ca8854d"
      },
      "execution_count": null,
      "outputs": [
        {
          "output_type": "stream",
          "name": "stdout",
          "text": [
            "4 6\n",
            "5 6 7 "
          ]
        }
      ]
    },
    {
      "cell_type": "code",
      "source": [
        "# 자리수의 합\n",
        "a = input()\n",
        "b = list(map(int, input().split()))\n",
        "\n",
        "def digit_sum(x):\n",
        "  result = 0\n",
        "  x = str(x)\n",
        "  y = list(x)\n",
        "  for i in y:\n",
        "    i = int(i)\n",
        "    result += i\n",
        "  return result\n",
        "\n",
        "for i in range(len(b)):\n",
        "  sol = -2147000000\n",
        "  if digit_sum(b[i]) > sol:\n",
        "    sol = digit_sum(b[i])\n",
        "print(b[i])"
      ],
      "metadata": {
        "id": "8zZwoH_pANAU",
        "colab": {
          "base_uri": "https://localhost:8080/"
        },
        "outputId": "d5f17b4e-cdb3-49bd-a471-bed9ff37f6ae"
      },
      "execution_count": null,
      "outputs": [
        {
          "output_type": "stream",
          "name": "stdout",
          "text": [
            "3\n",
            "125 15232 97\n",
            "97\n"
          ]
        }
      ]
    },
    {
      "cell_type": "code",
      "source": [
        "# 자리수의 합 - SOL\n",
        "n = input()\n",
        "a = list(map(int, input().split()))\n",
        "\n",
        "def digit_sum(x):\n",
        "  sum = 0\n",
        "  while x > 0:\n",
        "    sum += x % 10 # 나머지는 더하기\n",
        "    x = x // 10 # 몫을 반환\n",
        "  return sum\n",
        "\n",
        "max = -2147000000 # 가장 큰 값을 찾기 위함\n",
        "for x in a: # 리스트의 값을 가져옴\n",
        "  tot = digit_sum(x)\n",
        "  if tot > max:\n",
        "    max = tot\n",
        "    res = x\n",
        "\n",
        "print(x)"
      ],
      "metadata": {
        "id": "CGaWRCcVDm6A",
        "colab": {
          "base_uri": "https://localhost:8080/"
        },
        "outputId": "2980cfa0-e984-4737-e2d1-ce8a2ae112e9"
      },
      "execution_count": null,
      "outputs": [
        {
          "output_type": "stream",
          "name": "stdout",
          "text": [
            "3\n",
            "125 15232 97\n",
            "97\n"
          ]
        }
      ]
    },
    {
      "cell_type": "code",
      "source": [
        "# 자리수의 합 - SOL(2)\n",
        "n = input()\n",
        "a = list(map(int, input().split()))\n",
        "\n",
        "def digit_sum(x):\n",
        "  sum = 0\n",
        "  for i in str(x): # 문자열로 변환해서 하나씩 대입\n",
        "    sum += int(i) # 정수형으로 변환해서 더하기\n",
        "  return sum\n",
        "max = -2147000000 # 가장 큰 값을 찾기 위함\n",
        "for x in a: # 리스트의 값을 가져옴\n",
        "  tot = digit_sum(x)\n",
        "  if tot > max:\n",
        "    max = tot\n",
        "    res = x\n",
        "\n",
        "print(x)"
      ],
      "metadata": {
        "colab": {
          "base_uri": "https://localhost:8080/"
        },
        "id": "Qkd7LwQpGq65",
        "outputId": "bcca1690-4b3c-4472-d269-2e776de04216"
      },
      "execution_count": null,
      "outputs": [
        {
          "output_type": "stream",
          "name": "stdout",
          "text": [
            "3\n",
            "125 15232 97\n",
            "97\n"
          ]
        }
      ]
    },
    {
      "cell_type": "code",
      "source": [
        "# 소수(에라토스테네스 체)\n",
        "a = int(input())\n",
        "count = 0\n",
        "for i in range(2, a+1): # 2 ~ 6\n",
        "  result = 0\n",
        "  for j in range(2, i):\n",
        "    if i % j == 0:\n",
        "      result += 1\n",
        "  if result == 0:\n",
        "    count += 1\n",
        "print(count)\n"
      ],
      "metadata": {
        "colab": {
          "base_uri": "https://localhost:8080/"
        },
        "id": "iWVvUdfNFjQV",
        "outputId": "97ec2e06-e107-4fdf-fd95-596c742dbf77"
      },
      "execution_count": null,
      "outputs": [
        {
          "output_type": "stream",
          "name": "stdout",
          "text": [
            "20\n",
            "8\n"
          ]
        }
      ]
    },
    {
      "cell_type": "code",
      "source": [
        "# 소수(에라토스테네스 체) - SOL\n",
        "# [0] * n개의 리스트\n",
        "# 2 ~ : 숫자의 배수 카운트 (2) ...\n",
        "# 이후 다음 시작하는 숫자의 배수 카운트 (3) ...\n",
        "\n",
        "n = int(input())\n",
        "\n",
        "ch = [0] * (n+1) # index 번호 20까지\n",
        "cnt = 0\n",
        "for i in range(2, n+1): # 2 ~ n까지\n",
        "  if ch[i] == 0: \n",
        "    cnt += 1 # 소수 개수 1 증가\n",
        "    for j in range(i, n+1, i): # range(i, n+1, i) : i ~ n+1 / i만큼 배수\n",
        "      ch[j] = 1 # 값을 1로 만듬\n",
        "print(cnt) # 소수의 개수 입력"
      ],
      "metadata": {
        "colab": {
          "base_uri": "https://localhost:8080/"
        },
        "id": "Xw1XxKT2HaS_",
        "outputId": "8c7967d1-bb80-4b0f-971f-21256a29c0ed"
      },
      "execution_count": null,
      "outputs": [
        {
          "output_type": "stream",
          "name": "stdout",
          "text": [
            "20\n",
            "8\n"
          ]
        }
      ]
    },
    {
      "cell_type": "code",
      "source": [
        "# 뒤집은 소수\n",
        "\n",
        "def reverse(x): # 숫자 뒤집기 *\n",
        "  solve = 0\n",
        "  x = str(x)\n",
        "  y = list(x)\n",
        "  y = y[::-1]\n",
        "  print(y)\n",
        "reverse(32)\n",
        "\n",
        "def isPrime(x): # 소수 판별 함수\n",
        "  count = 0\n",
        "  for i in range(2, x):\n",
        "    if x % i == 0:\n",
        "      count += 1\n",
        "  if count == 0:\n",
        "      print(x)\n",
        "  else:\n",
        "      print('False')\n",
        "\n",
        "isPrime()  "
      ],
      "metadata": {
        "colab": {
          "base_uri": "https://localhost:8080/"
        },
        "id": "wWGwQC41LXZy",
        "outputId": "ba4184b0-ae09-4f88-9fe6-dee75d26071a"
      },
      "execution_count": null,
      "outputs": [
        {
          "output_type": "stream",
          "name": "stdout",
          "text": [
            "['2', '3']\n",
            "False\n"
          ]
        }
      ]
    },
    {
      "cell_type": "code",
      "source": [
        "# 뒤집은 소수 - SOL\n",
        "# res = res * 10 + t\n",
        "n = int(input())\n",
        "a = list(map(int, input().split()))\n",
        "\n",
        "def reverse(x):\n",
        "  res = 0\n",
        "  while x > 0:\n",
        "    t = x % 10 # x의 1의 자리수 : t\n",
        "    res = res * 10 + t\n",
        "    x = x // 10\n",
        "  return res\n",
        "# 9010\n",
        "# 1) 10으로 나눈 나머지 : 0\n",
        "# 2) 0 = 0 * 0 + 0\n",
        "# 3) x = 9010 // 10 = 901\n",
        "# 4) 10으로 나눈 나머지 : 1\n",
        "# 5) 0 * 10 + 1 > 1\n",
        "# 6) x = 901 // 10 = 90\n",
        "# 7) 10으로 나눈 나머지 : 0\n",
        "# 8) 1 * 10 + 0 > 10\n",
        "# 9) x = 90 // 10 = 9\n",
        "# 10) 10으로 나눈 나머지 : 9\n",
        "# 11) 10 * 10 + 9 > 109\n",
        "# 12) x = 9 // 10 = 0\n",
        "\n",
        "def isPrime(x):\n",
        "  if x == 1:\n",
        "    return False # 1이 넘어올 수 있음 예) 100\n",
        "  for i in range(2, x//2 +1): # 2 ~ n의 절반 > 16의 약수 1 * 16 / 2 * '8'\n",
        "    if x  % i == 0:\n",
        "      return False\n",
        "    else:\n",
        "      return True\n",
        "\n",
        "for x in a:\n",
        "  tmp = reverse(x)\n",
        "  if isPrime(tmp):\n",
        "    print(tmp, end = ' ')\n",
        "    "
      ],
      "metadata": {
        "id": "HoIVyDjQMfC1"
      },
      "execution_count": null,
      "outputs": []
    },
    {
      "cell_type": "code",
      "source": [
        "# 주사위 게임\n",
        "# 리스트.sort(reverse = True)\n",
        "result = 0\n",
        "if a == b == c:\n",
        "  result = 10000 + a * 1000\n",
        "elif a == b or b == c:\n",
        "  result = 1000 + b * 100\n",
        "else:\n",
        "  result = a * 100\n"
      ],
      "metadata": {
        "id": "J7AZfh46SkQk"
      },
      "execution_count": null,
      "outputs": []
    },
    {
      "cell_type": "code",
      "source": [
        "# 주사위 게임 - SOL\n",
        "n = int(input())\n",
        "res = 0 # 최대 값을 구하기 위해서\n",
        "for i in range(n):\n",
        "  tmp = input().split() # 리스트형 배열\n",
        "  tmp.sort() # 오름차순 정렬\n",
        "  a, b, c = map(int, tmp) # 리스트형 정수형으로 변환\n",
        "  result = 0\n",
        "  if a == b == c: # if문에서는 차례대로 조건이 계산\n",
        "    result = 10000 + a * 1000\n",
        "  elif a == b or b == c:\n",
        "    result = 1000 + b * 100\n",
        "  else:\n",
        "    result = a * 100\n",
        "  if money = res:\n",
        "    res = money\n",
        "print(res)"
      ],
      "metadata": {
        "id": "nP-B5cgDJ8Zq"
      },
      "execution_count": null,
      "outputs": []
    },
    {
      "cell_type": "code",
      "source": [
        "# 점수계산 - SOL\n",
        "n = int(input())\n",
        "a = list(map(int, input().split()))\n",
        "\n",
        "sum = 0\n",
        "cnt = 0 # 가중치\n",
        "for x in a: \n",
        "  if x == 1: # 연속적으로 '1'의 값이 나올때\n",
        "    cnt += 1\n",
        "    sum += cnt # cnt값이 연속적으로 증가\n",
        "  else:\n",
        "    cnt = 0 # 연속적으로 나오지 않으면 cnt 값을 초기화\n",
        "print(sum)"
      ],
      "metadata": {
        "id": "b6hr3sATh7DH"
      },
      "execution_count": null,
      "outputs": []
    }
  ]
}